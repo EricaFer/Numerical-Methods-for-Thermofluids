{
 "cells": [
  {
   "cell_type": "code",
   "execution_count": 136,
   "metadata": {},
   "outputs": [],
   "source": [
    "import numpy as np\n",
    "import os\n",
    "import requests\n",
    "import json\n",
    "from datetime import date,timedelta,datetime\n",
    "import pandas as pd\n",
    "import seaborn as sns\n",
    "import matplotlib.pyplot as plt\n",
    "from matplotlib.ticker import MaxNLocator"
   ]
  },
  {
   "cell_type": "markdown",
   "metadata": {},
   "source": [
    "Exercício 1. Escreva uma função cuja entrada sejam duas matrizes, A e B, e a saída seja a matriz\n",
    "resultante do produto das entradas. Não utilize nenhuma função de multiplicação de matrizes\n",
    "pronta, faça você mesmo os loops necessários para a multiplicação. Coloque uma mensagem de\n",
    "erro quando o número de colunas de A não for igual ao número de linhas de B. Utilize as arrays\n",
    "do numpy."
   ]
  },
  {
   "cell_type": "code",
   "execution_count": 17,
   "metadata": {},
   "outputs": [
    {
     "data": {
      "text/plain": [
       "array([[ 25.,  19.,  19.,  12.],\n",
       "       [ 73.,  58.,  55.,  39.],\n",
       "       [121.,  97.,  91.,  66.]])"
      ]
     },
     "execution_count": 17,
     "metadata": {},
     "output_type": "execute_result"
    }
   ],
   "source": [
    "def multiply_matrix(matrix1,matrix2):\n",
    "\n",
    "    #Validation\n",
    "    if matrix1.shape[1] == matrix2.shape[0]:\n",
    "\n",
    "        lines1 = matrix1.shape[0]\n",
    "        columns2 = matrix2.shape[1]\n",
    "        equalLen = matrix1.shape[1]\n",
    "\n",
    "        newMatrix = np.zeros((lines1,columns2))\n",
    "\n",
    "        for i in range(lines1):\n",
    "            for j in range(columns2):\n",
    "                for x in range(equalLen):\n",
    "                    newMatrix[i,j] += matrix1[i,x] * matrix2[x,j] \n",
    "\n",
    "        return newMatrix\n",
    "\n",
    "    else:\n",
    "        raise ValueError('The # of columns of the 1st matrix is not equal to the # of lines of 2nd matrix')"
   ]
  },
  {
   "cell_type": "markdown",
   "metadata": {},
   "source": [
    "Exercício 2. Crie uma função que tenha como entrada uma matriz qualquer M × N e como saída\n",
    "a média e o desvio padrão dos elementos dessa matriz."
   ]
  },
  {
   "cell_type": "code",
   "execution_count": 33,
   "metadata": {},
   "outputs": [],
   "source": [
    "def operate_matrix(matrix):\n",
    "\n",
    "    rows = matrix.shape[0]\n",
    "    columns = matrix.shape[1]\n",
    "    numberItems = rows * columns\n",
    "\n",
    "    if numberItems > 0:\n",
    "\n",
    "        itemsList = []\n",
    "\n",
    "        for i in range(rows):\n",
    "            itemsList.extend(matrix[i])\n",
    "\n",
    "        mean = sum(itemsList)/numberItems\n",
    "        diff = [(x - mean)**2 for x in itemsList]\n",
    "        std = np.sqrt(sum(diff)/(numberItems - 1))\n",
    "\n",
    "        print(\n",
    "            f'For matrix \\n{matrix}', \n",
    "            f'The mean is: {mean}',\n",
    "            f'The Standard Deviation is: {std:.3f}',\n",
    "            sep=\"\\n\")\n",
    "    else:\n",
    "        raise ZeroDivisionError('The matrix used is empty!')"
   ]
  },
  {
   "cell_type": "markdown",
   "metadata": {},
   "source": [
    "Exercício 3. Crie uma matriz N × N de números aleatórios com valores entre −2 e 2. Utilize a\n",
    "função do exercício anterior para calcular a média e o desvio padrão dos elementos dessa matriz.\n",
    "O que acontece com esses valores quando N → ∞? Dica: o numpy tem uma função que gera\n",
    "números aleatórios."
   ]
  },
  {
   "cell_type": "code",
   "execution_count": 36,
   "metadata": {},
   "outputs": [],
   "source": [
    "def operate_random_matrix(N):\n",
    "\n",
    "    randomMatrix = np.random.randint(-2,2,size=(N,N))\n",
    "\n",
    "    return operate_matrix(randomMatrix)"
   ]
  },
  {
   "cell_type": "code",
   "execution_count": 43,
   "metadata": {},
   "outputs": [
    {
     "name": "stdout",
     "output_type": "stream",
     "text": [
      "For matrix \n",
      "[[ 1 -1 -1 ...  0 -2 -2]\n",
      " [ 1  0 -2 ...  0 -1  0]\n",
      " [-1  0  1 ...  1  0 -2]\n",
      " ...\n",
      " [ 0  0 -2 ...  0 -1  0]\n",
      " [ 0 -2 -2 ... -2 -1  0]\n",
      " [-1 -2 -2 ...  1  1 -1]]\n",
      "The mean is: -0.50000195\n",
      "The Standard Deviation is: 1.118\n"
     ]
    }
   ],
   "source": [
    "operate_random_matrix(10000)"
   ]
  },
  {
   "cell_type": "code",
   "execution_count": null,
   "metadata": {},
   "outputs": [],
   "source": [
    "1.000\n",
    "The mean is: -0.499954\n",
    "The Standard Deviation is: 1.119 \n",
    "\n",
    "2.000\n",
    "The mean is: -0.500002\n",
    "The Standard Deviation is: 1.118\n",
    "\n",
    "5.000\n",
    "The mean is: -0.49988052\n",
    "The Standard Deviation is: 1.118\n",
    "\n",
    "10.000\n",
    "The mean is: -0.50000195\n",
    "The Standard Deviation is: 1.118"
   ]
  },
  {
   "cell_type": "markdown",
   "metadata": {},
   "source": [
    "Exercício 4. Desenvolva um programa que pede o nome e a idade do usuário (use a função input)\n",
    "e imprime esses valores em um arquivo texto de saída. Depois desenvolva um programa para ler os\n",
    "dados desse arquivo texto e imprimir o resultado na tela. Observação: a variável obtida a partir\n",
    "da função input é sempre do tipo string. Se você quiser utilizar o valor de entrada como int ou\n",
    "float você tem que fazer a conversão.\n"
   ]
  },
  {
   "cell_type": "code",
   "execution_count": 45,
   "metadata": {},
   "outputs": [],
   "source": [
    "def  user_interview():\n",
    "\n",
    "    name = input(\"What is your name?\")\n",
    "    age = int(input(\"How old are you?\"))\n",
    "\n",
    "    print(f\"Hello, {name} aged {age} years.\")"
   ]
  },
  {
   "cell_type": "markdown",
   "metadata": {},
   "source": [
    "Exercício 5. Crie um jogo de pedra, papel e tesoura. Utilize a função input para pegar a opção do\n",
    "jogador humano e utilize números aleatórios para gerar a resposta do computador. Faça primeiro\n",
    "um jogo que tenha a mesma probabilidade de vitória, derrota ou empate. Depois desenvolva\n",
    "um jogo em que a probabilidade do computador vencer seja maior, utilizando também números\n",
    "aleatórios. Faça alguns testes."
   ]
  },
  {
   "cell_type": "code",
   "execution_count": 142,
   "metadata": {},
   "outputs": [],
   "source": [
    "def rock_paper_scissors_fair():\n",
    "\n",
    "    print('Welcome to the Rock, Paper, Scissors game!\\n')\n",
    "\n",
    "    tryAgain = ''\n",
    "\n",
    "    scoreUser = 0\n",
    "    scoreComputer = 0\n",
    "\n",
    "    while tryAgain == '':\n",
    "\n",
    "        userInput = input('Please, write \"rock\", \"paper\" or \"scissors\", for Rock, Paper or Scissors, respectively.')\\\n",
    "            .lower()\n",
    "\n",
    "        resultDic = {\n",
    "            'paper':'rock',\n",
    "            'rock':'scissors',\n",
    "            'scissors':'paper'}\n",
    "\n",
    "        resultList = [(k,v) for k,v in resultDic.items()]\n",
    "\n",
    "        responseList = list(resultDic.keys())\n",
    "        numberResponses = len(responseList)\n",
    "\n",
    "        if userInput in responseList:\n",
    "\n",
    "            randomResponse = responseList[np.random.randint(0,numberResponses)]\n",
    "\n",
    "            for i in range(numberResponses):\n",
    "\n",
    "                if set([userInput,randomResponse]) == set(resultList[i]):\n",
    "                \n",
    "                    if userInput == resultList[i][0]:\n",
    "                        print('You won!')\n",
    "                        scoreUser += 1\n",
    "\n",
    "                    else:\n",
    "                        print('You lost!')\n",
    "                        scoreComputer += 1\n",
    "\n",
    "                else:\n",
    "                    print(f'Draw!')\n",
    "\n",
    "            print(\n",
    "                f'\\nYou played: {userInput.title()}',\n",
    "                f'The computer played: {randomResponse.title()}\\n',\n",
    "                f'Your score: {scoreUser}',\n",
    "                f\"Computer's score: {scoreComputer}\\n\",\n",
    "                sep=\"\\n\")\n",
    "            \n",
    "            tryAgain = input('Do you want to play again? Press ENTER to continue')\n",
    "\n",
    "            os.system('CLS')\n",
    "\n",
    "        else:\n",
    "            print('Your input is not valid! Please try again\\n')"
   ]
  },
  {
   "cell_type": "code",
   "execution_count": null,
   "metadata": {},
   "outputs": [],
   "source": [
    "def rock_paper_scissors_unfair():\n",
    "\n",
    "    print('Welcome to the Rock, Paper, Scissors game!\\n')\n",
    "\n",
    "    tryAgain = ''\n",
    "\n",
    "    scoreUser = 0\n",
    "    scoreComputer = 0\n",
    "\n",
    "    while tryAgain == '':\n",
    "\n",
    "        userInput = input('Please, write \"rock\", \"paper\" or \"scissors\", for Rock, Paper or Scissors, respectively.')\\\n",
    "            .lower()\n",
    "\n",
    "        # dictionary keys are the winning choice\n",
    "        resultDic = {\n",
    "            'rock':'paper',\n",
    "            'scissors':'rock',\n",
    "            'paper':'scissors'}\n",
    "        \n",
    "        responseList = list(resultDic.keys())\n",
    "        resultList = [(k,v) for k,v in resultDic.items()]\n",
    "\n",
    "        if userInput in responseList:\n",
    "\n",
    "            if np.random.randint(0,11) % 2 == 0:\n",
    "                \n",
    "                randomResponse = resultDic[userInput]\n",
    "\n",
    "            else:\n",
    "\n",
    "                randomResponse = responseList[np.random.randint(0,len(responseList))]\n",
    "\n",
    "            for i in range(3):\n",
    "\n",
    "                if set([userInput,randomResponse]) == set(resultList[i]):\n",
    "                \n",
    "                    if userInput == resultList[i][1]:\n",
    "                        print('You won!')\n",
    "                        scoreUser += 1\n",
    "\n",
    "                    else:\n",
    "                        print('You lost!')\n",
    "                        scoreComputer += 1\n",
    "\n",
    "                else:\n",
    "                    print(f'Draw!')\n",
    "\n",
    "            print(\n",
    "                f'\\nYou played: {userInput.title()}',\n",
    "                f'The computer played: {randomResponse.title()}\\n',\n",
    "                f'Your score: {scoreUser}',\n",
    "                f\"Computer's score: {scoreComputer}\\n\",\n",
    "                sep=\"\\n\")\n",
    "            \n",
    "            tryAgain = input('Do you want to play again? Press ENTER to continue')\n",
    "\n",
    "            os.system('CLS')\n",
    "\n",
    "        else:\n",
    "            print('Your input is not valid! Please try again\\n')"
   ]
  },
  {
   "cell_type": "markdown",
   "metadata": {},
   "source": [
    "Exercício 6. Faça um gráfico com o valor do dólar comercial nos últimos 20 dias. Utilize pontos\n",
    "e linhas. Personalize o seu gráfico"
   ]
  },
  {
   "cell_type": "code",
   "execution_count": 235,
   "metadata": {},
   "outputs": [],
   "source": [
    "def dollar_graph(numberDays):\n",
    "\n",
    "    def timestamp_to_date(row):\n",
    "\n",
    "        date = datetime.strptime(row['dataHoraCotacao'].split(' ')[0], '%Y-%m-%d')\n",
    "\n",
    "        return str(datetime.strftime(date,'%d-%m-%y'))\n",
    "\n",
    "    endDate = date.today()\n",
    "    startDate = endDate - timedelta(days = numberDays)\n",
    "\n",
    "    startDate = str(datetime.strftime(startDate, '%m-%d-%Y'))\n",
    "    endDate = str(datetime.strftime(endDate, '%m-%d-%Y'))\n",
    "\n",
    "    req = requests.get(f\"https://olinda.bcb.gov.br/olinda/servico/PTAX/versao/v1/odata/CotacaoDolarPeriodo(dataInicial=@dataInicial,dataFinalCotacao=@dataFinalCotacao)?@dataInicial='{startDate}'&@dataFinalCotacao='{endDate}'&$format=json&$select=cotacaoCompra,dataHoraCotacao\")\n",
    "\n",
    "    df = pd.json_normalize(req.json()['value'])\n",
    "\n",
    "    df['date'] = df.apply(timestamp_to_date, axis=1)\n",
    "\n",
    "    df.drop(labels=['dataHoraCotacao'],axis = 1,inplace=True)\n",
    "\n",
    "    fig, axes = plt.subplots(figsize = (15,5))\n",
    "\n",
    "    sns.set_theme(style=\"whitegrid\")\n",
    "\n",
    "    sns.lineplot(data = df, x = 'date',y = 'cotacaoCompra',color = '#a7c957',linewidth = 2)\n",
    "\n",
    "    plt.axvline(\n",
    "    x = '31-10-22',\n",
    "    color = \"#bc4749\",\n",
    "    label = \"Elections\", \n",
    "    linestyle = '--', \n",
    "    linewidth = 2)\n",
    "\n",
    "    axes.xaxis.set_major_locator(MaxNLocator(10)) \n",
    "    axes.yaxis.set_major_formatter('$ {x:1.2f}')\n",
    "\n",
    "    plt.legend(fontsize = 14)\n",
    "\n",
    "    plt.xticks(fontsize=15)\n",
    "    plt.yticks(fontsize=15)\n",
    "\n",
    "    plt.xlabel('')\n",
    "    plt.ylabel('')\n",
    "\n",
    "    plt.title(\n",
    "        f'USD to BRL last {numberDays} days', \n",
    "        fontsize = 16, \n",
    "        y = 1.02,\n",
    "        x = 0.1)"
   ]
  },
  {
   "cell_type": "code",
   "execution_count": 236,
   "metadata": {},
   "outputs": [
    {
     "data": {
      "image/png": "[encoded data removed]",
      "text/plain": [
       "<Figure size 1080x360 with 1 Axes>"
      ]
     },
     "metadata": {},
     "output_type": "display_data"
    }
   ],
   "source": [
    "dollar_graph(20)"
   ]
  }
 ],
 "metadata": {
  "kernelspec": {
   "display_name": "Python 3.10.2 64-bit",
   "language": "python",
   "name": "python3"
  },
  "language_info": {
   "codemirror_mode": {
    "name": "ipython",
    "version": 3
   },
   "file_extension": ".py",
   "mimetype": "text/x-python",
   "name": "python",
   "nbconvert_exporter": "python",
   "pygments_lexer": "ipython3",
   "version": "3.10.2"
  },
  "orig_nbformat": 4,
  "vscode": {
   "interpreter": {
    "hash": "9a0cdf84f448366647335ab4dc44bab47d439701884f9aceeef12dc82824af0a"
   }
  }
 },
 "nbformat": 4,
 "nbformat_minor": 2
}
